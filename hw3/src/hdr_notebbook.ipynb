{
 "cells": [
  {
   "cell_type": "code",
   "execution_count": 1,
   "metadata": {},
   "outputs": [],
   "source": [
    "\"\"\"\n",
    "@author: Zhen Tong\n",
    "\"\"\"\n",
    "import rawpy\n",
    "import os\n",
    "import sys\n",
    "import time\n",
    "import argparse\n",
    "os.environ[\"OPENCV_IO_ENABLE_OPENEXR\"]=\"1\"\n",
    "import cv2 #only for save images to jpg\n",
    "import exifread\n",
    "from matplotlib import pyplot as plt #use it only for debug\n",
    "import numpy as np\n",
    "from tqdm import tqdm\n",
    "\n",
    "from isp.BayerDomainProcessor import deadPixelCorrection, blackLevelCompensation, \\\n",
    "    antiAliasingFilter, AWB, CFA_Interpolation\n",
    "def get_arg():\n",
    "    parser = argparse.ArgumentParser()\n",
    "    parser.add_argument(\"--draw-intermediate\", type=bool, default=True)\n",
    "    parser.add_argument(\"--set-dir\", type=str, default=\"../data/set03\")\n",
    "    parser.add_argument(\"--output-dir\", type=str, default=\"data\")\n",
    "    parser.add_argument(\"--itmd_dir\", type=str, default=\"itmd\", help=\\\n",
    "        \"intermediate file root directory.\")\n",
    "    args = parser.parse_args()\n",
    "    assert os.path.exists(args.set_dir)\n",
    "    if os.path.exists(args.output_dir) == False:\n",
    "        os.makedirs(args.output_dir)\n",
    "\n",
    "    args.itmd_dir = os.path.join(args.itmd_dir, args.set_dir.strip(\"/\")[-1])\n",
    "    if os.path.exists(args.itmd_dir) == False:\n",
    "        os.makedirs(args.itmd_dir)\n",
    "    assert os.path.exists(args.output_dir)\n",
    "    assert os.path.exists(args.itmd_dir)\n",
    "    return args\n"
   ]
  },
  {
   "cell_type": "code",
   "execution_count": 15,
   "metadata": {},
   "outputs": [],
   "source": [
    "# fake args\n",
    "class ARGs:\n",
    "    def __init__(self):\n",
    "        self.set_dir = \"../../data/set03\"\n",
    "        self.draw_intermediate = True\n",
    "        self.output_dir = \"../data\"\n",
    "        self.itmd_dir = \"../itmd\"\n",
    "        self.itmd_dir = os.path.join(self.itmd_dir, self.set_dir.strip(\"/\")[-1])\n",
    "        if os.path.exists(self.itmd_dir) == False:\n",
    "            os.makedirs(self.itmd_dir)\n",
    "        assert os.path.exists(self.output_dir)\n",
    "        assert os.path.exists(self.itmd_dir)"
   ]
  },
  {
   "cell_type": "code",
   "execution_count": 16,
   "metadata": {},
   "outputs": [
    {
     "name": "stdout",
     "output_type": "stream",
     "text": [
      "['../../data/set03/DSC00163.ARW', '../../data/set03/DSC00164.ARW', '../../data/set03/DSC00165.ARW', '../../data/set03/DSC00166.ARW', '../../data/set03/DSC00167.ARW', '../../data/set03/DSC00168.ARW', '../../data/set03/DSC00169.ARW']\n",
      "--------------------------------------------------\n",
      "Loading 7 RAW images Done......\n"
     ]
    }
   ],
   "source": [
    "args = ARGs()\n",
    "image_name_list = []\n",
    "for file in os.listdir(args.set_dir):\n",
    "    if os.path.splitext(file)[1]=='.ARW': \n",
    "        file_dir = os.path.join(args.set_dir, file)\n",
    "        image_name_list.append(file_dir)\n",
    "        assert os.path.exists(file_dir)\n",
    "\n",
    "image_name_list.sort()\n",
    "image_name_list\n",
    "print(image_name_list)\n",
    "\n",
    "camera_white_level_per_channel_list = []\n",
    "image_list = []\n",
    "exposure_times = []\n",
    "for name in image_name_list:\n",
    "    raw = rawpy.imread(name)\n",
    "    image_list.append(raw.raw_image)\n",
    "    camera_white_level_per_channel_list.append(raw.camera_white_level_per_channel[0])\n",
    "    raw_file = open(name, 'rb')\n",
    "    exif_file = exifread.process_file(raw_file, details=False, strict=True)\n",
    "    ISO_str = exif_file['EXIF ISOSpeedRatings'].printable\n",
    "    ExposureTime = exif_file['EXIF ExposureTime'].printable\n",
    "    exposure_times.append(float(ExposureTime.split(\n",
    "        '/')[0]) / float(ExposureTime.split('/')[1]) * float(ISO_str))\n",
    "    rawimg = raw.raw_image\n",
    "\n",
    "clip_list = []\n",
    "for image in image_list:\n",
    "    clip_list.append(np.clip(image, raw.black_level_per_channel[0], 2**14))\n",
    "print(50*'-' + '\\nLoading {} RAW images Done......'.format(len(clip_list)))\n"
   ]
  },
  {
   "cell_type": "code",
   "execution_count": 17,
   "metadata": {},
   "outputs": [
    {
     "name": "stderr",
     "output_type": "stream",
     "text": [
      "1it [00:21, 21.24s/it]"
     ]
    },
    {
     "ename": "",
     "evalue": "",
     "output_type": "error",
     "traceback": [
      "\u001b[1;31m在当前单元格或上一个单元格中执行代码时 Kernel 崩溃。\n",
      "\u001b[1;31m请查看单元格中的代码，以确定故障的可能原因。\n",
      "\u001b[1;31m单击<a href='https://aka.ms/vscodeJupyterKernelCrash'>此处</a>了解详细信息。\n",
      "\u001b[1;31m有关更多详细信息，请查看 Jupyter <a href='command:jupyter.viewOutput'>log</a>。"
     ]
    }
   ],
   "source": [
    "#####################################  Part 1: Bayer Domain Processing Steps  ###################################\n",
    "# Step 1. Dead Pixel Correction (10pts)\n",
    "Bayer_dpcs = []\n",
    "dpc_thres, dpc_mode = 200, 'gradient'\n",
    "for i, raw_image in tqdm(enumerate(clip_list)):\n",
    "    dpc_clip = camera_white_level_per_channel_list[i]\n",
    "    dpc = deadPixelCorrection(raw_image, dpc_thres, dpc_mode, dpc_clip)\n",
    "    Bayer_dpcs.append(dpc.execute())\n",
    "print(50*'-' + '\\n 1.1 Dead Pixel Correction Done......')\n",
    "if args.draw_intermediate:\n",
    "    cv2.imwrite(os.path.join(args.itmd_dir,'Dead Pixel Correction.jpg'),Bayer_dpcs[0])\n"
   ]
  }
 ],
 "metadata": {
  "kernelspec": {
   "display_name": "imgCpt",
   "language": "python",
   "name": "python3"
  },
  "language_info": {
   "codemirror_mode": {
    "name": "ipython",
    "version": 3
   },
   "file_extension": ".py",
   "mimetype": "text/x-python",
   "name": "python",
   "nbconvert_exporter": "python",
   "pygments_lexer": "ipython3",
   "version": "3.8.18"
  }
 },
 "nbformat": 4,
 "nbformat_minor": 2
}
